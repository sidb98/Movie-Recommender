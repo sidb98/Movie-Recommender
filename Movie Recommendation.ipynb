{
  "nbformat": 4,
  "nbformat_minor": 0,
  "metadata": {
    "colab": {
      "name": "BDA Mini Project.ipynb",
      "provenance": [],
      "collapsed_sections": []
    },
    "kernelspec": {
      "name": "python3",
      "display_name": "Python 3"
    }
  },
  "cells": [
    {
      "cell_type": "markdown",
      "metadata": {
        "id": "Pg64EjcATVk9"
      },
      "source": [
        "# **MOVIE RATINGS ANALYSIS AND RECOMMENDATION SYSTEM**\n",
        "\n",
        "---\n",
        "\n"
      ]
    },
    {
      "cell_type": "markdown",
      "metadata": {
        "id": "47UsbYf3XSQt"
      },
      "source": [
        "PRN: 117A1009 117A1018"
      ]
    },
    {
      "cell_type": "markdown",
      "metadata": {
        "id": "sGY9qsFkT2hl"
      },
      "source": [
        "In this Project we are going to analyize the Movielens dataset (100k) and perform recommendation based on the user preference.\n",
        "\n",
        "To perform Recommendation we are going to use the IMDB-Dataset to build our model.\n",
        "\n",
        "Exploratory Data analysis of the dataset along with basic visualization is done using plot function of pandas."
      ]
    },
    {
      "cell_type": "markdown",
      "metadata": {
        "id": "S8JST7exVQDz"
      },
      "source": [
        "Movielens(100k) dataset consists of 100,000 ratings for movies from 943 users on 1682 movies.\n",
        "\n",
        "The link to this dataset https://grouplens.org/datasets/movielens/100k/\n",
        "\n",
        "IMDB-Dataaset consists of 100,000 ratings for movies from 668 users.\n",
        "\n",
        "The link to this dataset https://www.kaggle.com/stefanoleone992/imdb-extensive-dataset"
      ]
    },
    {
      "cell_type": "markdown",
      "metadata": {
        "id": "-sS_ZiqsWJzB"
      },
      "source": [
        "# **ANALYSIS OF DATASET**\n",
        "\n",
        "---\n",
        "\n"
      ]
    },
    {
      "cell_type": "code",
      "metadata": {
        "id": "uCsWNOfRSUiP"
      },
      "source": [
        "import pandas as pd\n",
        "import numpy as np \n",
        "import sklearn\n",
        "import matplotlib.pyplot as plt\n",
        "plt.style.use(['dark_background'])\n",
        "%matplotlib inline"
      ],
      "execution_count": null,
      "outputs": []
    },
    {
      "cell_type": "code",
      "metadata": {
        "colab": {
          "base_uri": "https://localhost:8080/"
        },
        "id": "QwVJasu9XTpy",
        "outputId": "13d1753e-734e-46ed-afec-80b9c6d5c23a"
      },
      "source": [
        "from google.colab import drive\n",
        "drive.mount('/content/gdrive')\n",
        "root_path = '/content/gdrive/MyDrive/SEM 7/BDA/Mini Project'"
      ],
      "execution_count": null,
      "outputs": [
        {
          "output_type": "stream",
          "text": [
            "Drive already mounted at /content/gdrive; to attempt to forcibly remount, call drive.mount(\"/content/gdrive\", force_remount=True).\n"
          ],
          "name": "stdout"
        }
      ]
    },
    {
      "cell_type": "code",
      "metadata": {
        "id": "dcZLyuFrSUiU"
      },
      "source": [
        "u_cols = ['user_id', 'age', 'sex', 'occupation', 'zip_code']\n",
        "r_cols = ['user_id', 'movie_id', 'rating', 'timestamp']\n",
        "m_cols = ['movie_id', 'title', 'release_date', 'video_release_date', 'imdb_url']"
      ],
      "execution_count": null,
      "outputs": []
    },
    {
      "cell_type": "code",
      "metadata": {
        "id": "bZBrr5ZjSUiV",
        "colab": {
          "base_uri": "https://localhost:8080/",
          "height": 143
        },
        "outputId": "95d9210d-8fc5-4165-b18c-a753afcd057d"
      },
      "source": [
        "users=pd.read_csv(root_path+'/ml-100k/u.user',sep='|',names=u_cols)\n",
        "ratings = pd.read_csv(root_path+'/ml-100k/u.data',sep='\\t', names=r_cols)\n",
        "movies = pd.read_csv(root_path+'/ml-100k/u.item', sep='\\t', names=m_cols, usecols=range(5),encoding = \"ISO-8859-1\")\n",
        "movielens=pd.merge(users,ratings)\n",
        "movielens=pd.merge(movielens,movies)\n",
        "movielens.head(3)"
      ],
      "execution_count": null,
      "outputs": [
        {
          "output_type": "execute_result",
          "data": {
            "text/html": [
              "<div>\n",
              "<style scoped>\n",
              "    .dataframe tbody tr th:only-of-type {\n",
              "        vertical-align: middle;\n",
              "    }\n",
              "\n",
              "    .dataframe tbody tr th {\n",
              "        vertical-align: top;\n",
              "    }\n",
              "\n",
              "    .dataframe thead th {\n",
              "        text-align: right;\n",
              "    }\n",
              "</style>\n",
              "<table border=\"1\" class=\"dataframe\">\n",
              "  <thead>\n",
              "    <tr style=\"text-align: right;\">\n",
              "      <th></th>\n",
              "      <th>user_id</th>\n",
              "      <th>age</th>\n",
              "      <th>sex</th>\n",
              "      <th>occupation</th>\n",
              "      <th>zip_code</th>\n",
              "      <th>movie_id</th>\n",
              "      <th>rating</th>\n",
              "      <th>timestamp</th>\n",
              "      <th>title</th>\n",
              "      <th>release_date</th>\n",
              "      <th>video_release_date</th>\n",
              "      <th>imdb_url</th>\n",
              "    </tr>\n",
              "  </thead>\n",
              "  <tbody>\n",
              "    <tr>\n",
              "      <th>0</th>\n",
              "      <td>1</td>\n",
              "      <td>24</td>\n",
              "      <td>M</td>\n",
              "      <td>technician</td>\n",
              "      <td>85711</td>\n",
              "      <td>61</td>\n",
              "      <td>4</td>\n",
              "      <td>878542420</td>\n",
              "      <td>Three Colors: White (1994)</td>\n",
              "      <td>01-Jan-1994</td>\n",
              "      <td>NaN</td>\n",
              "      <td>http://us.imdb.com/M/title-exact?Trzy%20kolory...</td>\n",
              "    </tr>\n",
              "    <tr>\n",
              "      <th>1</th>\n",
              "      <td>13</td>\n",
              "      <td>47</td>\n",
              "      <td>M</td>\n",
              "      <td>educator</td>\n",
              "      <td>29206</td>\n",
              "      <td>61</td>\n",
              "      <td>4</td>\n",
              "      <td>882140552</td>\n",
              "      <td>Three Colors: White (1994)</td>\n",
              "      <td>01-Jan-1994</td>\n",
              "      <td>NaN</td>\n",
              "      <td>http://us.imdb.com/M/title-exact?Trzy%20kolory...</td>\n",
              "    </tr>\n",
              "    <tr>\n",
              "      <th>2</th>\n",
              "      <td>18</td>\n",
              "      <td>35</td>\n",
              "      <td>F</td>\n",
              "      <td>other</td>\n",
              "      <td>37212</td>\n",
              "      <td>61</td>\n",
              "      <td>4</td>\n",
              "      <td>880130803</td>\n",
              "      <td>Three Colors: White (1994)</td>\n",
              "      <td>01-Jan-1994</td>\n",
              "      <td>NaN</td>\n",
              "      <td>http://us.imdb.com/M/title-exact?Trzy%20kolory...</td>\n",
              "    </tr>\n",
              "  </tbody>\n",
              "</table>\n",
              "</div>"
            ],
            "text/plain": [
              "   user_id  ...                                           imdb_url\n",
              "0        1  ...  http://us.imdb.com/M/title-exact?Trzy%20kolory...\n",
              "1       13  ...  http://us.imdb.com/M/title-exact?Trzy%20kolory...\n",
              "2       18  ...  http://us.imdb.com/M/title-exact?Trzy%20kolory...\n",
              "\n",
              "[3 rows x 12 columns]"
            ]
          },
          "metadata": {
            "tags": []
          },
          "execution_count": 44
        }
      ]
    },
    {
      "cell_type": "code",
      "metadata": {
        "colab": {
          "base_uri": "https://localhost:8080/",
          "height": 300
        },
        "id": "erkkhAmVgPJs",
        "outputId": "ec5e43d2-0dd0-4fea-ab86-38a5002d2d1e"
      },
      "source": [
        "movielens.describe()"
      ],
      "execution_count": null,
      "outputs": [
        {
          "output_type": "execute_result",
          "data": {
            "text/html": [
              "<div>\n",
              "<style scoped>\n",
              "    .dataframe tbody tr th:only-of-type {\n",
              "        vertical-align: middle;\n",
              "    }\n",
              "\n",
              "    .dataframe tbody tr th {\n",
              "        vertical-align: top;\n",
              "    }\n",
              "\n",
              "    .dataframe thead th {\n",
              "        text-align: right;\n",
              "    }\n",
              "</style>\n",
              "<table border=\"1\" class=\"dataframe\">\n",
              "  <thead>\n",
              "    <tr style=\"text-align: right;\">\n",
              "      <th></th>\n",
              "      <th>user_id</th>\n",
              "      <th>age</th>\n",
              "      <th>movie_id</th>\n",
              "      <th>rating</th>\n",
              "      <th>timestamp</th>\n",
              "      <th>video_release_date</th>\n",
              "    </tr>\n",
              "  </thead>\n",
              "  <tbody>\n",
              "    <tr>\n",
              "      <th>count</th>\n",
              "      <td>100000.00000</td>\n",
              "      <td>100000.000000</td>\n",
              "      <td>100000.000000</td>\n",
              "      <td>100000.000000</td>\n",
              "      <td>1.000000e+05</td>\n",
              "      <td>0.0</td>\n",
              "    </tr>\n",
              "    <tr>\n",
              "      <th>mean</th>\n",
              "      <td>462.48475</td>\n",
              "      <td>32.969850</td>\n",
              "      <td>425.530130</td>\n",
              "      <td>3.529860</td>\n",
              "      <td>8.835289e+08</td>\n",
              "      <td>NaN</td>\n",
              "    </tr>\n",
              "    <tr>\n",
              "      <th>std</th>\n",
              "      <td>266.61442</td>\n",
              "      <td>11.562623</td>\n",
              "      <td>330.798356</td>\n",
              "      <td>1.125674</td>\n",
              "      <td>5.343856e+06</td>\n",
              "      <td>NaN</td>\n",
              "    </tr>\n",
              "    <tr>\n",
              "      <th>min</th>\n",
              "      <td>1.00000</td>\n",
              "      <td>7.000000</td>\n",
              "      <td>1.000000</td>\n",
              "      <td>1.000000</td>\n",
              "      <td>8.747247e+08</td>\n",
              "      <td>NaN</td>\n",
              "    </tr>\n",
              "    <tr>\n",
              "      <th>25%</th>\n",
              "      <td>254.00000</td>\n",
              "      <td>24.000000</td>\n",
              "      <td>175.000000</td>\n",
              "      <td>3.000000</td>\n",
              "      <td>8.794487e+08</td>\n",
              "      <td>NaN</td>\n",
              "    </tr>\n",
              "    <tr>\n",
              "      <th>50%</th>\n",
              "      <td>447.00000</td>\n",
              "      <td>30.000000</td>\n",
              "      <td>322.000000</td>\n",
              "      <td>4.000000</td>\n",
              "      <td>8.828269e+08</td>\n",
              "      <td>NaN</td>\n",
              "    </tr>\n",
              "    <tr>\n",
              "      <th>75%</th>\n",
              "      <td>682.00000</td>\n",
              "      <td>40.000000</td>\n",
              "      <td>631.000000</td>\n",
              "      <td>4.000000</td>\n",
              "      <td>8.882600e+08</td>\n",
              "      <td>NaN</td>\n",
              "    </tr>\n",
              "    <tr>\n",
              "      <th>max</th>\n",
              "      <td>943.00000</td>\n",
              "      <td>73.000000</td>\n",
              "      <td>1682.000000</td>\n",
              "      <td>5.000000</td>\n",
              "      <td>8.932866e+08</td>\n",
              "      <td>NaN</td>\n",
              "    </tr>\n",
              "  </tbody>\n",
              "</table>\n",
              "</div>"
            ],
            "text/plain": [
              "            user_id            age  ...     timestamp  video_release_date\n",
              "count  100000.00000  100000.000000  ...  1.000000e+05                 0.0\n",
              "mean      462.48475      32.969850  ...  8.835289e+08                 NaN\n",
              "std       266.61442      11.562623  ...  5.343856e+06                 NaN\n",
              "min         1.00000       7.000000  ...  8.747247e+08                 NaN\n",
              "25%       254.00000      24.000000  ...  8.794487e+08                 NaN\n",
              "50%       447.00000      30.000000  ...  8.828269e+08                 NaN\n",
              "75%       682.00000      40.000000  ...  8.882600e+08                 NaN\n",
              "max       943.00000      73.000000  ...  8.932866e+08                 NaN\n",
              "\n",
              "[8 rows x 6 columns]"
            ]
          },
          "metadata": {
            "tags": []
          },
          "execution_count": 45
        }
      ]
    },
    {
      "cell_type": "code",
      "metadata": {
        "colab": {
          "base_uri": "https://localhost:8080/"
        },
        "id": "2EI6OUdEgURq",
        "outputId": "d0003f13-8a49-4001-b88f-5d70625a4cc0"
      },
      "source": [
        "movielens.shape"
      ],
      "execution_count": null,
      "outputs": [
        {
          "output_type": "execute_result",
          "data": {
            "text/plain": [
              "(100000, 12)"
            ]
          },
          "metadata": {
            "tags": []
          },
          "execution_count": 46
        }
      ]
    },
    {
      "cell_type": "markdown",
      "metadata": {
        "id": "1gydhwVQhstI"
      },
      "source": [
        "## Top 25 Rated Movies"
      ]
    },
    {
      "cell_type": "code",
      "metadata": {
        "colab": {
          "base_uri": "https://localhost:8080/",
          "height": 665
        },
        "id": "X7qLpPbFhtJv",
        "outputId": "7804dd57-a7d4-4588-b00a-999a7c7b2f3a"
      },
      "source": [
        "plt.figure(figsize=(15 ,7))\n",
        "most_rated=movielens.groupby('title').size().sort_values(ascending=False)[:25]\n",
        "most_rated.plot(kind=\"bar\",title=\"Top 25 rated movies\",ylabel=\"Count\", xlabel=\"\", color='#8A2BE2')"
      ],
      "execution_count": null,
      "outputs": [
        {
          "output_type": "execute_result",
          "data": {
            "text/plain": [
              "<matplotlib.axes._subplots.AxesSubplot at 0x7f97202ed4a8>"
            ]
          },
          "metadata": {
            "tags": []
          },
          "execution_count": 47
        },
        {
          "output_type": "display_data",
          "data": {
            "image/png": "[encoded data removed]",
            "text/plain": [
              "<Figure size 1080x504 with 1 Axes>"
            ]
          },
          "metadata": {
            "tags": [],
            "needs_background": "dark"
          }
        }
      ]
    },
    {
      "cell_type": "markdown",
      "metadata": {
        "id": "aDoR4ojlmkal"
      },
      "source": [
        "As we can see that the mean through size of 1 is 5.0 thus if one person rated it as 5 it would consider and give us a rating of 5.0\n",
        "\n",
        "To avoid inaccuracy of top rating we would set parameter size as 100."
      ]
    },
    {
      "cell_type": "code",
      "metadata": {
        "colab": {
          "base_uri": "https://localhost:8080/",
          "height": 269
        },
        "id": "-iOF22lImZxY",
        "outputId": "4e283fd8-5618-423f-821d-3cef61cf6bb4"
      },
      "source": [
        "movie_stat = movielens.groupby('title').agg({'rating':[np.size,np.mean]})\n",
        "movie_stat.sort_values([('rating','mean')],ascending=False).head()"
      ],
      "execution_count": null,
      "outputs": [
        {
          "output_type": "execute_result",
          "data": {
            "text/html": [
              "<div>\n",
              "<style scoped>\n",
              "    .dataframe tbody tr th:only-of-type {\n",
              "        vertical-align: middle;\n",
              "    }\n",
              "\n",
              "    .dataframe tbody tr th {\n",
              "        vertical-align: top;\n",
              "    }\n",
              "\n",
              "    .dataframe thead tr th {\n",
              "        text-align: left;\n",
              "    }\n",
              "\n",
              "    .dataframe thead tr:last-of-type th {\n",
              "        text-align: right;\n",
              "    }\n",
              "</style>\n",
              "<table border=\"1\" class=\"dataframe\">\n",
              "  <thead>\n",
              "    <tr>\n",
              "      <th></th>\n",
              "      <th colspan=\"2\" halign=\"left\">rating</th>\n",
              "    </tr>\n",
              "    <tr>\n",
              "      <th></th>\n",
              "      <th>size</th>\n",
              "      <th>mean</th>\n",
              "    </tr>\n",
              "    <tr>\n",
              "      <th>title</th>\n",
              "      <th></th>\n",
              "      <th></th>\n",
              "    </tr>\n",
              "  </thead>\n",
              "  <tbody>\n",
              "    <tr>\n",
              "      <th>They Made Me a Criminal (1939)</th>\n",
              "      <td>1</td>\n",
              "      <td>5.0</td>\n",
              "    </tr>\n",
              "    <tr>\n",
              "      <th>Marlene Dietrich: Shadow and Light (1996)</th>\n",
              "      <td>1</td>\n",
              "      <td>5.0</td>\n",
              "    </tr>\n",
              "    <tr>\n",
              "      <th>Saint of Fort Washington, The (1993)</th>\n",
              "      <td>2</td>\n",
              "      <td>5.0</td>\n",
              "    </tr>\n",
              "    <tr>\n",
              "      <th>Someone Else's America (1995)</th>\n",
              "      <td>1</td>\n",
              "      <td>5.0</td>\n",
              "    </tr>\n",
              "    <tr>\n",
              "      <th>Star Kid (1997)</th>\n",
              "      <td>3</td>\n",
              "      <td>5.0</td>\n",
              "    </tr>\n",
              "  </tbody>\n",
              "</table>\n",
              "</div>"
            ],
            "text/plain": [
              "                                           rating     \n",
              "                                             size mean\n",
              "title                                                 \n",
              "They Made Me a Criminal (1939)                  1  5.0\n",
              "Marlene Dietrich: Shadow and Light (1996)       1  5.0\n",
              "Saint of Fort Washington, The (1993)            2  5.0\n",
              "Someone Else's America (1995)                   1  5.0\n",
              "Star Kid (1997)                                 3  5.0"
            ]
          },
          "metadata": {
            "tags": []
          },
          "execution_count": 48
        }
      ]
    },
    {
      "cell_type": "code",
      "metadata": {
        "colab": {
          "base_uri": "https://localhost:8080/",
          "height": 843
        },
        "id": "Z8MSIx7-m_kr",
        "outputId": "9ff494d4-78bb-411b-fb24-e5e097193fb4"
      },
      "source": [
        "plt.figure(figsize=(15 ,7))\n",
        "most100=movie_stat['rating']['size'] >= 100\n",
        "most_rated_mean=movie_stat[most100].sort_values([('rating', 'mean')], ascending=False)\n",
        "most_rated_mean['rating']['mean'].sort_values(ascending=False)[:25].plot(kind=\"bar\",title=\"Top 25 rated movies\",ylabel=\"Rating\", xlabel=\"\", color='#8A2BE2')"
      ],
      "execution_count": null,
      "outputs": [
        {
          "output_type": "execute_result",
          "data": {
            "text/plain": [
              "<matplotlib.axes._subplots.AxesSubplot at 0x7f971c293668>"
            ]
          },
          "metadata": {
            "tags": []
          },
          "execution_count": 49
        },
        {
          "output_type": "display_data",
          "data": {
            "image/png": "[encoded data removed]",
            "text/plain": [
              "<Figure size 1080x504 with 1 Axes>"
            ]
          },
          "metadata": {
            "tags": [],
            "needs_background": "dark"
          }
        }
      ]
    },
    {
      "cell_type": "code",
      "metadata": {
        "colab": {
          "base_uri": "https://localhost:8080/",
          "height": 462
        },
        "id": "tc8NLJbpntFa",
        "outputId": "bb6caf49-d9f2-4c0e-95e9-bcdadde2ace7"
      },
      "source": [
        "plt.figure(figsize=(15 ,7))\n",
        "# plt.xlabel=(\"Age\")\n",
        "# plt.ylabel=(\"count\")\n",
        "plt.title=(\"Age distribution\")\n",
        "users.age.plot.hist(bins=30,edgecolor='#49117C',color=\"#8A2BE2\", title=\"No. Ratings w.r.t. Age\")\n"
      ],
      "execution_count": null,
      "outputs": [
        {
          "output_type": "execute_result",
          "data": {
            "text/plain": [
              "<matplotlib.axes._subplots.AxesSubplot at 0x7f971c312e48>"
            ]
          },
          "metadata": {
            "tags": []
          },
          "execution_count": 50
        },
        {
          "output_type": "display_data",
          "data": {
            "image/png": "[encoded data removed]",
            "text/plain": [
              "<Figure size 1080x504 with 1 Axes>"
            ]
          },
          "metadata": {
            "tags": [],
            "needs_background": "dark"
          }
        }
      ]
    },
    {
      "cell_type": "markdown",
      "metadata": {
        "id": "LFCJpa3Wz-Eq"
      },
      "source": [
        "## Insights of The Toy Story"
      ]
    },
    {
      "cell_type": "code",
      "metadata": {
        "colab": {
          "base_uri": "https://localhost:8080/",
          "height": 474
        },
        "id": "KUbRRnuvN3Vt",
        "outputId": "b7cfd0dd-64b2-4474-e63c-77b22156671b"
      },
      "source": [
        "labels=['0-9','10-19','20-29','30-39','40-49','50-59','60-69','70-79']\n",
        "movielens['age_group'] = pd.cut(movielens.age, range(0, 81, 10), right=False, labels=labels)\n",
        "distage=movielens.groupby('age_group').agg({'rating':[np.size,np.mean]})\n",
        "colors=[\"y\",\"g\",\"b\",\"m\",'gold', 'yellowgreen', 'lightcoral', 'lightskyblue']\n",
        "plt.pie(distage['rating']['size'],startangle=90,labels=labels,colors=colors,explode=(0.4,0,0,0,0,0,0,0.1),autopct = '%1.1f%%',radius=2.2)\n",
        "plt.show()"
      ],
      "execution_count": null,
      "outputs": [
        {
          "output_type": "display_data",
          "data": {
            "image/png": "[encoded data removed]",
            "text/plain": [
              "<Figure size 432x288 with 1 Axes>"
            ]
          },
          "metadata": {
            "tags": []
          }
        }
      ]
    },
    {
      "cell_type": "code",
      "metadata": {
        "colab": {
          "base_uri": "https://localhost:8080/",
          "height": 363
        },
        "id": "8IMqaO5Fr32i",
        "outputId": "93ffde40-6719-4c21-e662-019f7adf2100"
      },
      "source": [
        "toystory=movielens[movielens.movie_id==1]\n",
        "toystory.shape\n",
        "mov1 = movielens.sort_values(\"movie_id\",ascending=True).head(452) ##we have 452 reviews approximately for Toystory\n",
        "mov1.set_index('movie_id',inplace=True)\n",
        "by_age = mov1.loc[mov1.index].groupby(['title', 'age_group']).agg([np.size,np.mean])\n",
        "by_age"
      ],
      "execution_count": null,
      "outputs": [
        {
          "output_type": "execute_result",
          "data": {
            "text/html": [
              "<div>\n",
              "<style scoped>\n",
              "    .dataframe tbody tr th:only-of-type {\n",
              "        vertical-align: middle;\n",
              "    }\n",
              "\n",
              "    .dataframe tbody tr th {\n",
              "        vertical-align: top;\n",
              "    }\n",
              "\n",
              "    .dataframe thead tr th {\n",
              "        text-align: left;\n",
              "    }\n",
              "\n",
              "    .dataframe thead tr:last-of-type th {\n",
              "        text-align: right;\n",
              "    }\n",
              "</style>\n",
              "<table border=\"1\" class=\"dataframe\">\n",
              "  <thead>\n",
              "    <tr>\n",
              "      <th></th>\n",
              "      <th></th>\n",
              "      <th colspan=\"2\" halign=\"left\">user_id</th>\n",
              "      <th colspan=\"2\" halign=\"left\">age</th>\n",
              "      <th colspan=\"2\" halign=\"left\">rating</th>\n",
              "      <th colspan=\"2\" halign=\"left\">timestamp</th>\n",
              "      <th colspan=\"2\" halign=\"left\">video_release_date</th>\n",
              "    </tr>\n",
              "    <tr>\n",
              "      <th></th>\n",
              "      <th></th>\n",
              "      <th>size</th>\n",
              "      <th>mean</th>\n",
              "      <th>size</th>\n",
              "      <th>mean</th>\n",
              "      <th>size</th>\n",
              "      <th>mean</th>\n",
              "      <th>size</th>\n",
              "      <th>mean</th>\n",
              "      <th>size</th>\n",
              "      <th>mean</th>\n",
              "    </tr>\n",
              "    <tr>\n",
              "      <th>title</th>\n",
              "      <th>age_group</th>\n",
              "      <th></th>\n",
              "      <th></th>\n",
              "      <th></th>\n",
              "      <th></th>\n",
              "      <th></th>\n",
              "      <th></th>\n",
              "      <th></th>\n",
              "      <th></th>\n",
              "      <th></th>\n",
              "      <th></th>\n",
              "    </tr>\n",
              "  </thead>\n",
              "  <tbody>\n",
              "    <tr>\n",
              "      <th rowspan=\"8\" valign=\"top\">Toy Story (1995)</th>\n",
              "      <th>0-9</th>\n",
              "      <td>NaN</td>\n",
              "      <td>NaN</td>\n",
              "      <td>NaN</td>\n",
              "      <td>NaN</td>\n",
              "      <td>NaN</td>\n",
              "      <td>NaN</td>\n",
              "      <td>NaN</td>\n",
              "      <td>NaN</td>\n",
              "      <td>NaN</td>\n",
              "      <td>NaN</td>\n",
              "    </tr>\n",
              "    <tr>\n",
              "      <th>10-19</th>\n",
              "      <td>16724.0</td>\n",
              "      <td>510.729730</td>\n",
              "      <td>16724.0</td>\n",
              "      <td>17.000000</td>\n",
              "      <td>16724.0</td>\n",
              "      <td>3.621622</td>\n",
              "      <td>16724.0</td>\n",
              "      <td>8.831738e+08</td>\n",
              "      <td>16724.0</td>\n",
              "      <td>NaN</td>\n",
              "    </tr>\n",
              "    <tr>\n",
              "      <th>20-29</th>\n",
              "      <td>85428.0</td>\n",
              "      <td>508.132275</td>\n",
              "      <td>85428.0</td>\n",
              "      <td>24.888889</td>\n",
              "      <td>85428.0</td>\n",
              "      <td>3.920635</td>\n",
              "      <td>85428.0</td>\n",
              "      <td>8.824191e+08</td>\n",
              "      <td>85428.0</td>\n",
              "      <td>NaN</td>\n",
              "    </tr>\n",
              "    <tr>\n",
              "      <th>30-39</th>\n",
              "      <td>54692.0</td>\n",
              "      <td>464.487603</td>\n",
              "      <td>54692.0</td>\n",
              "      <td>33.809917</td>\n",
              "      <td>54692.0</td>\n",
              "      <td>4.033058</td>\n",
              "      <td>54692.0</td>\n",
              "      <td>8.821978e+08</td>\n",
              "      <td>54692.0</td>\n",
              "      <td>NaN</td>\n",
              "    </tr>\n",
              "    <tr>\n",
              "      <th>40-49</th>\n",
              "      <td>31640.0</td>\n",
              "      <td>433.028571</td>\n",
              "      <td>31640.0</td>\n",
              "      <td>44.528571</td>\n",
              "      <td>31640.0</td>\n",
              "      <td>3.700000</td>\n",
              "      <td>31640.0</td>\n",
              "      <td>8.841052e+08</td>\n",
              "      <td>31640.0</td>\n",
              "      <td>NaN</td>\n",
              "    </tr>\n",
              "    <tr>\n",
              "      <th>50-59</th>\n",
              "      <td>13108.0</td>\n",
              "      <td>380.482759</td>\n",
              "      <td>13108.0</td>\n",
              "      <td>52.689655</td>\n",
              "      <td>13108.0</td>\n",
              "      <td>3.758621</td>\n",
              "      <td>13108.0</td>\n",
              "      <td>8.834829e+08</td>\n",
              "      <td>13108.0</td>\n",
              "      <td>NaN</td>\n",
              "    </tr>\n",
              "    <tr>\n",
              "      <th>60-69</th>\n",
              "      <td>2260.0</td>\n",
              "      <td>471.800000</td>\n",
              "      <td>2260.0</td>\n",
              "      <td>61.000000</td>\n",
              "      <td>2260.0</td>\n",
              "      <td>3.400000</td>\n",
              "      <td>2260.0</td>\n",
              "      <td>8.855238e+08</td>\n",
              "      <td>2260.0</td>\n",
              "      <td>NaN</td>\n",
              "    </tr>\n",
              "    <tr>\n",
              "      <th>70-79</th>\n",
              "      <td>452.0</td>\n",
              "      <td>767.000000</td>\n",
              "      <td>452.0</td>\n",
              "      <td>70.000000</td>\n",
              "      <td>452.0</td>\n",
              "      <td>5.000000</td>\n",
              "      <td>452.0</td>\n",
              "      <td>8.914628e+08</td>\n",
              "      <td>452.0</td>\n",
              "      <td>NaN</td>\n",
              "    </tr>\n",
              "  </tbody>\n",
              "</table>\n",
              "</div>"
            ],
            "text/plain": [
              "                            user_id              ... video_release_date     \n",
              "                               size        mean  ...               size mean\n",
              "title            age_group                       ...                        \n",
              "Toy Story (1995) 0-9            NaN         NaN  ...                NaN  NaN\n",
              "                 10-19      16724.0  510.729730  ...            16724.0  NaN\n",
              "                 20-29      85428.0  508.132275  ...            85428.0  NaN\n",
              "                 30-39      54692.0  464.487603  ...            54692.0  NaN\n",
              "                 40-49      31640.0  433.028571  ...            31640.0  NaN\n",
              "                 50-59      13108.0  380.482759  ...            13108.0  NaN\n",
              "                 60-69       2260.0  471.800000  ...             2260.0  NaN\n",
              "                 70-79        452.0  767.000000  ...              452.0  NaN\n",
              "\n",
              "[8 rows x 10 columns]"
            ]
          },
          "metadata": {
            "tags": []
          },
          "execution_count": 52
        }
      ]
    },
    {
      "cell_type": "markdown",
      "metadata": {
        "id": "h-jv84a-sHwb"
      },
      "source": [
        "As we could see below age 70-79 gave higher ratings for toystory"
      ]
    },
    {
      "cell_type": "code",
      "metadata": {
        "colab": {
          "base_uri": "https://localhost:8080/",
          "height": 561
        },
        "id": "L_oZk9misGAl",
        "outputId": "107929f3-6c48-416c-80c1-7fe2324cc2e9"
      },
      "source": [
        "plt.figure(figsize=(15 ,7))\n",
        "by_age['rating']['mean'].plot(kind=\"bar\",ylabel=\"Rating\", xlabel=\"\", color='#8A2BE2')\n"
      ],
      "execution_count": null,
      "outputs": [
        {
          "output_type": "execute_result",
          "data": {
            "text/plain": [
              "<matplotlib.axes._subplots.AxesSubplot at 0x7f971c1b3588>"
            ]
          },
          "metadata": {
            "tags": []
          },
          "execution_count": 53
        },
        {
          "output_type": "display_data",
          "data": {
            "image/png": "[encoded data removed]",
            "text/plain": [
              "<Figure size 1080x504 with 1 Axes>"
            ]
          },
          "metadata": {
            "tags": [],
            "needs_background": "dark"
          }
        }
      ]
    },
    {
      "cell_type": "code",
      "metadata": {
        "id": "LPgXgvs8Z7eQ",
        "colab": {
          "base_uri": "https://localhost:8080/",
          "height": 473
        },
        "outputId": "9ff1eccf-8cb5-40a1-9ebe-c81f7baaca5c"
      },
      "source": [
        "plt.figure(figsize=(15 ,7))\n",
        "# toystory=toystory.groupby('rating').agg([np.size,np.mean])\n",
        "toystory['user_id']['size'].plot(kind=\"bar\",title=\"By Rating of Toy story\", ylabel=\"Count\", xlabel=\"Rating\", color='#8A2BE2')"
      ],
      "execution_count": null,
      "outputs": [
        {
          "output_type": "execute_result",
          "data": {
            "text/plain": [
              "<matplotlib.axes._subplots.AxesSubplot at 0x7f971c0a15f8>"
            ]
          },
          "metadata": {
            "tags": []
          },
          "execution_count": 54
        },
        {
          "output_type": "display_data",
          "data": {
            "image/png": "[encoded data removed]",
            "text/plain": [
              "<Figure size 1080x504 with 1 Axes>"
            ]
          },
          "metadata": {
            "tags": [],
            "needs_background": "dark"
          }
        }
      ]
    },
    {
      "cell_type": "markdown",
      "metadata": {
        "id": "mKKeDW9d0MdG"
      },
      "source": [
        "## Comparision Based on Audience Gender"
      ]
    },
    {
      "cell_type": "code",
      "metadata": {
        "id": "cxOUWdrZZ7eS",
        "colab": {
          "base_uri": "https://localhost:8080/",
          "height": 237
        },
        "outputId": "7c8fc531-e03a-4f21-9329-6d06bfef0489"
      },
      "source": [
        "pivoted = movielens.pivot_table(index=['movie_id', 'title'],\n",
        "                           columns=['sex'],\n",
        "                           values='rating',\n",
        "                           fill_value=0)\n",
        "pivoted.head()"
      ],
      "execution_count": null,
      "outputs": [
        {
          "output_type": "execute_result",
          "data": {
            "text/html": [
              "<div>\n",
              "<style scoped>\n",
              "    .dataframe tbody tr th:only-of-type {\n",
              "        vertical-align: middle;\n",
              "    }\n",
              "\n",
              "    .dataframe tbody tr th {\n",
              "        vertical-align: top;\n",
              "    }\n",
              "\n",
              "    .dataframe thead th {\n",
              "        text-align: right;\n",
              "    }\n",
              "</style>\n",
              "<table border=\"1\" class=\"dataframe\">\n",
              "  <thead>\n",
              "    <tr style=\"text-align: right;\">\n",
              "      <th></th>\n",
              "      <th>sex</th>\n",
              "      <th>F</th>\n",
              "      <th>M</th>\n",
              "    </tr>\n",
              "    <tr>\n",
              "      <th>movie_id</th>\n",
              "      <th>title</th>\n",
              "      <th></th>\n",
              "      <th></th>\n",
              "    </tr>\n",
              "  </thead>\n",
              "  <tbody>\n",
              "    <tr>\n",
              "      <th>1</th>\n",
              "      <th>Toy Story (1995)</th>\n",
              "      <td>3.789916</td>\n",
              "      <td>3.909910</td>\n",
              "    </tr>\n",
              "    <tr>\n",
              "      <th>2</th>\n",
              "      <th>GoldenEye (1995)</th>\n",
              "      <td>3.368421</td>\n",
              "      <td>3.178571</td>\n",
              "    </tr>\n",
              "    <tr>\n",
              "      <th>3</th>\n",
              "      <th>Four Rooms (1995)</th>\n",
              "      <td>2.687500</td>\n",
              "      <td>3.108108</td>\n",
              "    </tr>\n",
              "    <tr>\n",
              "      <th>4</th>\n",
              "      <th>Get Shorty (1995)</th>\n",
              "      <td>3.400000</td>\n",
              "      <td>3.591463</td>\n",
              "    </tr>\n",
              "    <tr>\n",
              "      <th>5</th>\n",
              "      <th>Copycat (1995)</th>\n",
              "      <td>3.772727</td>\n",
              "      <td>3.140625</td>\n",
              "    </tr>\n",
              "  </tbody>\n",
              "</table>\n",
              "</div>"
            ],
            "text/plain": [
              "sex                                F         M\n",
              "movie_id title                                \n",
              "1        Toy Story (1995)   3.789916  3.909910\n",
              "2        GoldenEye (1995)   3.368421  3.178571\n",
              "3        Four Rooms (1995)  2.687500  3.108108\n",
              "4        Get Shorty (1995)  3.400000  3.591463\n",
              "5        Copycat (1995)     3.772727  3.140625"
            ]
          },
          "metadata": {
            "tags": []
          },
          "execution_count": 55
        }
      ]
    },
    {
      "cell_type": "code",
      "metadata": {
        "id": "TUEnvj4vZ7eS",
        "colab": {
          "base_uri": "https://localhost:8080/",
          "height": 237
        },
        "outputId": "50cb839d-4d04-4099-c8a7-f803d8941305"
      },
      "source": [
        "pivoted['diff'] = pivoted.M - pivoted.F\n",
        "pivoted.head()"
      ],
      "execution_count": null,
      "outputs": [
        {
          "output_type": "execute_result",
          "data": {
            "text/html": [
              "<div>\n",
              "<style scoped>\n",
              "    .dataframe tbody tr th:only-of-type {\n",
              "        vertical-align: middle;\n",
              "    }\n",
              "\n",
              "    .dataframe tbody tr th {\n",
              "        vertical-align: top;\n",
              "    }\n",
              "\n",
              "    .dataframe thead th {\n",
              "        text-align: right;\n",
              "    }\n",
              "</style>\n",
              "<table border=\"1\" class=\"dataframe\">\n",
              "  <thead>\n",
              "    <tr style=\"text-align: right;\">\n",
              "      <th></th>\n",
              "      <th>sex</th>\n",
              "      <th>F</th>\n",
              "      <th>M</th>\n",
              "      <th>diff</th>\n",
              "    </tr>\n",
              "    <tr>\n",
              "      <th>movie_id</th>\n",
              "      <th>title</th>\n",
              "      <th></th>\n",
              "      <th></th>\n",
              "      <th></th>\n",
              "    </tr>\n",
              "  </thead>\n",
              "  <tbody>\n",
              "    <tr>\n",
              "      <th>1</th>\n",
              "      <th>Toy Story (1995)</th>\n",
              "      <td>3.789916</td>\n",
              "      <td>3.909910</td>\n",
              "      <td>0.119994</td>\n",
              "    </tr>\n",
              "    <tr>\n",
              "      <th>2</th>\n",
              "      <th>GoldenEye (1995)</th>\n",
              "      <td>3.368421</td>\n",
              "      <td>3.178571</td>\n",
              "      <td>-0.189850</td>\n",
              "    </tr>\n",
              "    <tr>\n",
              "      <th>3</th>\n",
              "      <th>Four Rooms (1995)</th>\n",
              "      <td>2.687500</td>\n",
              "      <td>3.108108</td>\n",
              "      <td>0.420608</td>\n",
              "    </tr>\n",
              "    <tr>\n",
              "      <th>4</th>\n",
              "      <th>Get Shorty (1995)</th>\n",
              "      <td>3.400000</td>\n",
              "      <td>3.591463</td>\n",
              "      <td>0.191463</td>\n",
              "    </tr>\n",
              "    <tr>\n",
              "      <th>5</th>\n",
              "      <th>Copycat (1995)</th>\n",
              "      <td>3.772727</td>\n",
              "      <td>3.140625</td>\n",
              "      <td>-0.632102</td>\n",
              "    </tr>\n",
              "  </tbody>\n",
              "</table>\n",
              "</div>"
            ],
            "text/plain": [
              "sex                                F         M      diff\n",
              "movie_id title                                          \n",
              "1        Toy Story (1995)   3.789916  3.909910  0.119994\n",
              "2        GoldenEye (1995)   3.368421  3.178571 -0.189850\n",
              "3        Four Rooms (1995)  2.687500  3.108108  0.420608\n",
              "4        Get Shorty (1995)  3.400000  3.591463  0.191463\n",
              "5        Copycat (1995)     3.772727  3.140625 -0.632102"
            ]
          },
          "metadata": {
            "tags": []
          },
          "execution_count": 56
        }
      ]
    },
    {
      "cell_type": "code",
      "metadata": {
        "id": "vQRAWsF2Z7eS"
      },
      "source": [
        "pivoted.reset_index('movie_id', inplace=True)"
      ],
      "execution_count": null,
      "outputs": []
    },
    {
      "cell_type": "code",
      "metadata": {
        "id": "hi6Ma2bSZ7eS",
        "colab": {
          "base_uri": "https://localhost:8080/",
          "height": 912
        },
        "outputId": "aad29fda-5bd2-4eec-f924-56d3521479eb"
      },
      "source": [
        "disagreements = pivoted[pivoted.movie_id.isin(movielens.head(100).index)]['diff']\n",
        "disagreements.sort_values().plot(kind='barh', figsize=[15, 15],title=(\"Male vs. Female Avg. Ratings\\n(Difference > 0 = Favored by Men)\"), color='#8A2BE2')"
      ],
      "execution_count": null,
      "outputs": [
        {
          "output_type": "execute_result",
          "data": {
            "text/plain": [
              "<matplotlib.axes._subplots.AxesSubplot at 0x7f971c0963c8>"
            ]
          },
          "metadata": {
            "tags": []
          },
          "execution_count": 58
        },
        {
          "output_type": "display_data",
          "data": {
            "image/png": "[encoded data removed]",
            "text/plain": [
              "<Figure size 1080x1080 with 1 Axes>"
            ]
          },
          "metadata": {
            "tags": [],
            "needs_background": "dark"
          }
        }
      ]
    },
    {
      "cell_type": "markdown",
      "metadata": {
        "id": "-x1Ut0_m0sOn"
      },
      "source": [
        "#**BUILDING A RECOMMENDATION SYSTEM**\n",
        "\n",
        "---\n",
        "\n"
      ]
    },
    {
      "cell_type": "code",
      "metadata": {
        "id": "ksBklkzNZ7eS",
        "colab": {
          "base_uri": "https://localhost:8080/",
          "height": 206
        },
        "outputId": "4905ddc4-5599-4c9f-cb7c-9e1b10a3c3af"
      },
      "source": [
        "mlmovie=movielens.drop(['user_id','zip_code'],axis=1)\n",
        "mlmovie=mlmovie.drop(['sex','timestamp','title','release_date','video_release_date','imdb_url','age_group'],axis=1)\n",
        "mlmovie.head()"
      ],
      "execution_count": null,
      "outputs": [
        {
          "output_type": "execute_result",
          "data": {
            "text/html": [
              "<div>\n",
              "<style scoped>\n",
              "    .dataframe tbody tr th:only-of-type {\n",
              "        vertical-align: middle;\n",
              "    }\n",
              "\n",
              "    .dataframe tbody tr th {\n",
              "        vertical-align: top;\n",
              "    }\n",
              "\n",
              "    .dataframe thead th {\n",
              "        text-align: right;\n",
              "    }\n",
              "</style>\n",
              "<table border=\"1\" class=\"dataframe\">\n",
              "  <thead>\n",
              "    <tr style=\"text-align: right;\">\n",
              "      <th></th>\n",
              "      <th>age</th>\n",
              "      <th>occupation</th>\n",
              "      <th>movie_id</th>\n",
              "      <th>rating</th>\n",
              "    </tr>\n",
              "  </thead>\n",
              "  <tbody>\n",
              "    <tr>\n",
              "      <th>0</th>\n",
              "      <td>24</td>\n",
              "      <td>technician</td>\n",
              "      <td>61</td>\n",
              "      <td>4</td>\n",
              "    </tr>\n",
              "    <tr>\n",
              "      <th>1</th>\n",
              "      <td>47</td>\n",
              "      <td>educator</td>\n",
              "      <td>61</td>\n",
              "      <td>4</td>\n",
              "    </tr>\n",
              "    <tr>\n",
              "      <th>2</th>\n",
              "      <td>35</td>\n",
              "      <td>other</td>\n",
              "      <td>61</td>\n",
              "      <td>4</td>\n",
              "    </tr>\n",
              "    <tr>\n",
              "      <th>3</th>\n",
              "      <td>27</td>\n",
              "      <td>programmer</td>\n",
              "      <td>61</td>\n",
              "      <td>5</td>\n",
              "    </tr>\n",
              "    <tr>\n",
              "      <th>4</th>\n",
              "      <td>49</td>\n",
              "      <td>educator</td>\n",
              "      <td>61</td>\n",
              "      <td>4</td>\n",
              "    </tr>\n",
              "  </tbody>\n",
              "</table>\n",
              "</div>"
            ],
            "text/plain": [
              "   age  occupation  movie_id  rating\n",
              "0   24  technician        61       4\n",
              "1   47    educator        61       4\n",
              "2   35       other        61       4\n",
              "3   27  programmer        61       5\n",
              "4   49    educator        61       4"
            ]
          },
          "metadata": {
            "tags": []
          },
          "execution_count": 59
        }
      ]
    },
    {
      "cell_type": "code",
      "metadata": {
        "id": "3mLlvJiyZ7eS",
        "colab": {
          "base_uri": "https://localhost:8080/",
          "height": 351
        },
        "outputId": "77bad4b4-8a81-407a-98a1-e659ddd580ae"
      },
      "source": [
        "mlmovie=mlmovie[:500]\n",
        "tgt = mlmovie[['rating']]\n",
        "print(tgt.shape)\n",
        "others=mlmovie[['movie_id','age','occupation']]\n",
        "print(others.shape)\n",
        "##converting the occupation into digits for linear regression , here we are going to make the machine predict ratings in accordance to \n",
        "##movie_id , age\n",
        "others[\"occupation\"]=others.occupation.replace(['technician', 'educator', 'other', 'programmer', 'healthcare',\n",
        "       'student', 'artist', 'scientist', 'writer', 'engineer',\n",
        "       'administrator', 'doctor', 'retired', 'librarian', 'entertainment',\n",
        "       'executive', 'lawyer', 'none', 'marketing', 'salesman'],[1,2,3,4,5,6,7,8,9,10,11,12,13,14,15,16,17,18,19,20])\n",
        "\n",
        "others.head()\n"
      ],
      "execution_count": null,
      "outputs": [
        {
          "output_type": "stream",
          "text": [
            "(500, 1)\n",
            "(500, 3)\n"
          ],
          "name": "stdout"
        },
        {
          "output_type": "stream",
          "text": [
            "/usr/local/lib/python3.6/dist-packages/ipykernel_launcher.py:11: SettingWithCopyWarning: \n",
            "A value is trying to be set on a copy of a slice from a DataFrame.\n",
            "Try using .loc[row_indexer,col_indexer] = value instead\n",
            "\n",
            "See the caveats in the documentation: https://pandas.pydata.org/pandas-docs/stable/user_guide/indexing.html#returning-a-view-versus-a-copy\n",
            "  # This is added back by InteractiveShellApp.init_path()\n"
          ],
          "name": "stderr"
        },
        {
          "output_type": "execute_result",
          "data": {
            "text/html": [
              "<div>\n",
              "<style scoped>\n",
              "    .dataframe tbody tr th:only-of-type {\n",
              "        vertical-align: middle;\n",
              "    }\n",
              "\n",
              "    .dataframe tbody tr th {\n",
              "        vertical-align: top;\n",
              "    }\n",
              "\n",
              "    .dataframe thead th {\n",
              "        text-align: right;\n",
              "    }\n",
              "</style>\n",
              "<table border=\"1\" class=\"dataframe\">\n",
              "  <thead>\n",
              "    <tr style=\"text-align: right;\">\n",
              "      <th></th>\n",
              "      <th>movie_id</th>\n",
              "      <th>age</th>\n",
              "      <th>occupation</th>\n",
              "    </tr>\n",
              "  </thead>\n",
              "  <tbody>\n",
              "    <tr>\n",
              "      <th>0</th>\n",
              "      <td>61</td>\n",
              "      <td>24</td>\n",
              "      <td>1</td>\n",
              "    </tr>\n",
              "    <tr>\n",
              "      <th>1</th>\n",
              "      <td>61</td>\n",
              "      <td>47</td>\n",
              "      <td>2</td>\n",
              "    </tr>\n",
              "    <tr>\n",
              "      <th>2</th>\n",
              "      <td>61</td>\n",
              "      <td>35</td>\n",
              "      <td>3</td>\n",
              "    </tr>\n",
              "    <tr>\n",
              "      <th>3</th>\n",
              "      <td>61</td>\n",
              "      <td>27</td>\n",
              "      <td>4</td>\n",
              "    </tr>\n",
              "    <tr>\n",
              "      <th>4</th>\n",
              "      <td>61</td>\n",
              "      <td>49</td>\n",
              "      <td>2</td>\n",
              "    </tr>\n",
              "  </tbody>\n",
              "</table>\n",
              "</div>"
            ],
            "text/plain": [
              "   movie_id  age  occupation\n",
              "0        61   24           1\n",
              "1        61   47           2\n",
              "2        61   35           3\n",
              "3        61   27           4\n",
              "4        61   49           2"
            ]
          },
          "metadata": {
            "tags": []
          },
          "execution_count": 60
        }
      ]
    },
    {
      "cell_type": "markdown",
      "metadata": {
        "id": "4vfazwFN4Tcx"
      },
      "source": [
        "##Using Linear Regression"
      ]
    },
    {
      "cell_type": "code",
      "metadata": {
        "id": "UBmT4et2Z7eS",
        "colab": {
          "base_uri": "https://localhost:8080/"
        },
        "outputId": "ce0bd5bf-0cd5-499b-bcfe-7ab4fdb18a02"
      },
      "source": [
        "from sklearn.model_selection import train_test_split\n",
        "for i in range(4):\n",
        "    print(((train_test_split(others,tgt,random_state=1))[i]).shape)\n",
        "    \n",
        "x_train,x_test,y_train,y_test=train_test_split(others,tgt,random_state=1)\n"
      ],
      "execution_count": null,
      "outputs": [
        {
          "output_type": "stream",
          "text": [
            "(375, 3)\n",
            "(125, 3)\n",
            "(375, 1)\n",
            "(125, 1)\n"
          ],
          "name": "stdout"
        }
      ]
    },
    {
      "cell_type": "code",
      "metadata": {
        "id": "Ua6yE0kFZ7eS"
      },
      "source": [
        "from sklearn.linear_model import LinearRegression"
      ],
      "execution_count": null,
      "outputs": []
    },
    {
      "cell_type": "code",
      "metadata": {
        "id": "QXrGi9tHZ7eS",
        "colab": {
          "base_uri": "https://localhost:8080/"
        },
        "outputId": "721b5af8-bd47-4c17-8e01-e0735bda61c8"
      },
      "source": [
        "lreg=LinearRegression()\n",
        "lreg.fit(x_train,y_train)"
      ],
      "execution_count": null,
      "outputs": [
        {
          "output_type": "execute_result",
          "data": {
            "text/plain": [
              "LinearRegression(copy_X=True, fit_intercept=True, n_jobs=None, normalize=False)"
            ]
          },
          "metadata": {
            "tags": []
          },
          "execution_count": 63
        }
      ]
    },
    {
      "cell_type": "code",
      "metadata": {
        "id": "Z-Gcj_lPZ7eT",
        "colab": {
          "base_uri": "https://localhost:8080/"
        },
        "outputId": "fb7fdf1c-8080-4992-b324-b23192a44f0c"
      },
      "source": [
        "print(lreg.get_params())\n",
        "print(lreg.coef_)\n",
        "print(lreg.intercept_)"
      ],
      "execution_count": null,
      "outputs": [
        {
          "output_type": "stream",
          "text": [
            "{'copy_X': True, 'fit_intercept': True, 'n_jobs': None, 'normalize': False}\n",
            "[[ 0.00207221 -0.00373644 -0.02078028]]\n",
            "[3.73071206]\n"
          ],
          "name": "stdout"
        }
      ]
    },
    {
      "cell_type": "code",
      "metadata": {
        "id": "tcof9Pz5Z7eT",
        "colab": {
          "base_uri": "https://localhost:8080/"
        },
        "outputId": "03a0fd7c-70d4-49ce-b4cd-38351a97eb87"
      },
      "source": [
        "y_pred=lreg.predict(x_test)\n",
        "y_pred[:15]"
      ],
      "execution_count": null,
      "outputs": [
        {
          "output_type": "execute_result",
          "data": {
            "text/plain": [
              "array([[3.48424982],\n",
              "       [3.58021862],\n",
              "       [3.65023341],\n",
              "       [3.73802451],\n",
              "       [3.79787227],\n",
              "       [3.91344273],\n",
              "       [3.55825971],\n",
              "       [3.68478082],\n",
              "       [3.86659136],\n",
              "       [3.80082508],\n",
              "       [3.53630081],\n",
              "       [3.29755119],\n",
              "       [3.93835445],\n",
              "       [3.72307875],\n",
              "       [3.38408485]])"
            ]
          },
          "metadata": {
            "tags": []
          },
          "execution_count": 65
        }
      ]
    },
    {
      "cell_type": "code",
      "metadata": {
        "id": "l2A1jvL5Z7eT",
        "colab": {
          "base_uri": "https://localhost:8080/"
        },
        "outputId": "df1e3667-724d-47b6-8752-0c658a88d047"
      },
      "source": [
        "from sklearn import metrics\n",
        "print(np.sqrt(metrics.mean_squared_error(y_test,y_pred)))"
      ],
      "execution_count": null,
      "outputs": [
        {
          "output_type": "stream",
          "text": [
            "1.0449181233597307\n"
          ],
          "name": "stdout"
        }
      ]
    },
    {
      "cell_type": "code",
      "metadata": {
        "id": "SSWkWQoYZ7eT",
        "colab": {
          "base_uri": "https://localhost:8080/"
        },
        "outputId": "9f4a08a5-a708-4b58-f95c-83c7a6d8a22a"
      },
      "source": [
        "print(metrics.r2_score(y_test,y_pred))"
      ],
      "execution_count": null,
      "outputs": [
        {
          "output_type": "stream",
          "text": [
            "0.004306236388885942\n"
          ],
          "name": "stdout"
        }
      ]
    },
    {
      "cell_type": "markdown",
      "metadata": {
        "id": "tItImixw7Tdq"
      },
      "source": [
        "##Recomendation model using machine learning"
      ]
    },
    {
      "cell_type": "code",
      "metadata": {
        "id": "XECYO1-SZ7eU"
      },
      "source": [
        "movies_df = pd.read_csv(root_path+'/IMDB-Dataset/movies.csv')\n",
        "movie_df=movies_df"
      ],
      "execution_count": null,
      "outputs": []
    },
    {
      "cell_type": "code",
      "metadata": {
        "id": "Xm8D5uLDZ7eU",
        "colab": {
          "base_uri": "https://localhost:8080/",
          "height": 417
        },
        "outputId": "4eebae8c-08a9-41be-e44e-014b073b88d3"
      },
      "source": [
        "movies_df = pd.concat([movies_df, movies_df.genres.str.get_dummies(sep='|')], axis=1)  \n",
        "movies_df.head()"
      ],
      "execution_count": null,
      "outputs": [
        {
          "output_type": "execute_result",
          "data": {
            "text/html": [
              "<div>\n",
              "<style scoped>\n",
              "    .dataframe tbody tr th:only-of-type {\n",
              "        vertical-align: middle;\n",
              "    }\n",
              "\n",
              "    .dataframe tbody tr th {\n",
              "        vertical-align: top;\n",
              "    }\n",
              "\n",
              "    .dataframe thead th {\n",
              "        text-align: right;\n",
              "    }\n",
              "</style>\n",
              "<table border=\"1\" class=\"dataframe\">\n",
              "  <thead>\n",
              "    <tr style=\"text-align: right;\">\n",
              "      <th></th>\n",
              "      <th>movieId</th>\n",
              "      <th>title</th>\n",
              "      <th>genres</th>\n",
              "      <th>(no genres listed)</th>\n",
              "      <th>Action</th>\n",
              "      <th>Adventure</th>\n",
              "      <th>Animation</th>\n",
              "      <th>Children</th>\n",
              "      <th>Comedy</th>\n",
              "      <th>Crime</th>\n",
              "      <th>Documentary</th>\n",
              "      <th>Drama</th>\n",
              "      <th>Fantasy</th>\n",
              "      <th>Film-Noir</th>\n",
              "      <th>Horror</th>\n",
              "      <th>IMAX</th>\n",
              "      <th>Musical</th>\n",
              "      <th>Mystery</th>\n",
              "      <th>Romance</th>\n",
              "      <th>Sci-Fi</th>\n",
              "      <th>Thriller</th>\n",
              "      <th>War</th>\n",
              "      <th>Western</th>\n",
              "    </tr>\n",
              "  </thead>\n",
              "  <tbody>\n",
              "    <tr>\n",
              "      <th>0</th>\n",
              "      <td>1</td>\n",
              "      <td>Toy Story (1995)</td>\n",
              "      <td>Adventure|Animation|Children|Comedy|Fantasy</td>\n",
              "      <td>0</td>\n",
              "      <td>0</td>\n",
              "      <td>1</td>\n",
              "      <td>1</td>\n",
              "      <td>1</td>\n",
              "      <td>1</td>\n",
              "      <td>0</td>\n",
              "      <td>0</td>\n",
              "      <td>0</td>\n",
              "      <td>1</td>\n",
              "      <td>0</td>\n",
              "      <td>0</td>\n",
              "      <td>0</td>\n",
              "      <td>0</td>\n",
              "      <td>0</td>\n",
              "      <td>0</td>\n",
              "      <td>0</td>\n",
              "      <td>0</td>\n",
              "      <td>0</td>\n",
              "      <td>0</td>\n",
              "    </tr>\n",
              "    <tr>\n",
              "      <th>1</th>\n",
              "      <td>2</td>\n",
              "      <td>Jumanji (1995)</td>\n",
              "      <td>Adventure|Children|Fantasy</td>\n",
              "      <td>0</td>\n",
              "      <td>0</td>\n",
              "      <td>1</td>\n",
              "      <td>0</td>\n",
              "      <td>1</td>\n",
              "      <td>0</td>\n",
              "      <td>0</td>\n",
              "      <td>0</td>\n",
              "      <td>0</td>\n",
              "      <td>1</td>\n",
              "      <td>0</td>\n",
              "      <td>0</td>\n",
              "      <td>0</td>\n",
              "      <td>0</td>\n",
              "      <td>0</td>\n",
              "      <td>0</td>\n",
              "      <td>0</td>\n",
              "      <td>0</td>\n",
              "      <td>0</td>\n",
              "      <td>0</td>\n",
              "    </tr>\n",
              "    <tr>\n",
              "      <th>2</th>\n",
              "      <td>3</td>\n",
              "      <td>Grumpier Old Men (1995)</td>\n",
              "      <td>Comedy|Romance</td>\n",
              "      <td>0</td>\n",
              "      <td>0</td>\n",
              "      <td>0</td>\n",
              "      <td>0</td>\n",
              "      <td>0</td>\n",
              "      <td>1</td>\n",
              "      <td>0</td>\n",
              "      <td>0</td>\n",
              "      <td>0</td>\n",
              "      <td>0</td>\n",
              "      <td>0</td>\n",
              "      <td>0</td>\n",
              "      <td>0</td>\n",
              "      <td>0</td>\n",
              "      <td>0</td>\n",
              "      <td>1</td>\n",
              "      <td>0</td>\n",
              "      <td>0</td>\n",
              "      <td>0</td>\n",
              "      <td>0</td>\n",
              "    </tr>\n",
              "    <tr>\n",
              "      <th>3</th>\n",
              "      <td>4</td>\n",
              "      <td>Waiting to Exhale (1995)</td>\n",
              "      <td>Comedy|Drama|Romance</td>\n",
              "      <td>0</td>\n",
              "      <td>0</td>\n",
              "      <td>0</td>\n",
              "      <td>0</td>\n",
              "      <td>0</td>\n",
              "      <td>1</td>\n",
              "      <td>0</td>\n",
              "      <td>0</td>\n",
              "      <td>1</td>\n",
              "      <td>0</td>\n",
              "      <td>0</td>\n",
              "      <td>0</td>\n",
              "      <td>0</td>\n",
              "      <td>0</td>\n",
              "      <td>0</td>\n",
              "      <td>1</td>\n",
              "      <td>0</td>\n",
              "      <td>0</td>\n",
              "      <td>0</td>\n",
              "      <td>0</td>\n",
              "    </tr>\n",
              "    <tr>\n",
              "      <th>4</th>\n",
              "      <td>5</td>\n",
              "      <td>Father of the Bride Part II (1995)</td>\n",
              "      <td>Comedy</td>\n",
              "      <td>0</td>\n",
              "      <td>0</td>\n",
              "      <td>0</td>\n",
              "      <td>0</td>\n",
              "      <td>0</td>\n",
              "      <td>1</td>\n",
              "      <td>0</td>\n",
              "      <td>0</td>\n",
              "      <td>0</td>\n",
              "      <td>0</td>\n",
              "      <td>0</td>\n",
              "      <td>0</td>\n",
              "      <td>0</td>\n",
              "      <td>0</td>\n",
              "      <td>0</td>\n",
              "      <td>0</td>\n",
              "      <td>0</td>\n",
              "      <td>0</td>\n",
              "      <td>0</td>\n",
              "      <td>0</td>\n",
              "    </tr>\n",
              "  </tbody>\n",
              "</table>\n",
              "</div>"
            ],
            "text/plain": [
              "   movieId                               title  ... War  Western\n",
              "0        1                    Toy Story (1995)  ...   0        0\n",
              "1        2                      Jumanji (1995)  ...   0        0\n",
              "2        3             Grumpier Old Men (1995)  ...   0        0\n",
              "3        4            Waiting to Exhale (1995)  ...   0        0\n",
              "4        5  Father of the Bride Part II (1995)  ...   0        0\n",
              "\n",
              "[5 rows x 23 columns]"
            ]
          },
          "metadata": {
            "tags": []
          },
          "execution_count": 69
        }
      ]
    },
    {
      "cell_type": "markdown",
      "metadata": {
        "id": "ZZLVv30j3vrO"
      },
      "source": [
        "##Using Collabrative Filtering"
      ]
    },
    {
      "cell_type": "code",
      "metadata": {
        "id": "2g3M1nfpZ7eU",
        "colab": {
          "base_uri": "https://localhost:8080/"
        },
        "outputId": "3ae3424f-a841-407a-d413-05496cd507cd"
      },
      "source": [
        "movies_cateogary = movies_df.columns[3:]\n",
        "movies_df.loc[0]"
      ],
      "execution_count": null,
      "outputs": [
        {
          "output_type": "execute_result",
          "data": {
            "text/plain": [
              "movieId                                                         1\n",
              "title                                            Toy Story (1995)\n",
              "genres                Adventure|Animation|Children|Comedy|Fantasy\n",
              "(no genres listed)                                              0\n",
              "Action                                                          0\n",
              "Adventure                                                       1\n",
              "Animation                                                       1\n",
              "Children                                                        1\n",
              "Comedy                                                          1\n",
              "Crime                                                           0\n",
              "Documentary                                                     0\n",
              "Drama                                                           0\n",
              "Fantasy                                                         1\n",
              "Film-Noir                                                       0\n",
              "Horror                                                          0\n",
              "IMAX                                                            0\n",
              "Musical                                                         0\n",
              "Mystery                                                         0\n",
              "Romance                                                         0\n",
              "Sci-Fi                                                          0\n",
              "Thriller                                                        0\n",
              "War                                                             0\n",
              "Western                                                         0\n",
              "Name: 0, dtype: object"
            ]
          },
          "metadata": {
            "tags": []
          },
          "execution_count": 70
        }
      ]
    },
    {
      "cell_type": "markdown",
      "metadata": {
        "id": "FcmjhR9F3oTC"
      },
      "source": [
        "##Manually using preferences for some user"
      ]
    },
    {
      "cell_type": "code",
      "metadata": {
        "id": "RMl0JEDKZ7eV"
      },
      "source": [
        "from collections import OrderedDict\n",
        "user_preferences = OrderedDict(zip(movies_cateogary, []))\n",
        "\n",
        "user_preferences['Action'] = 5  \n",
        "user_preferences['Adventure'] = 5  \n",
        "user_preferences['Animation'] = 1  \n",
        "user_preferences[\"Children's\"] = 2  \n",
        "user_preferences[\"Comedy\"] = 3  \n",
        "user_preferences['Crime'] = 2  \n",
        "user_preferences['Documentary'] = 1  \n",
        "user_preferences['Drama'] = 1  \n",
        "user_preferences['Fantasy'] = 1  \n",
        "user_preferences['Film-Noir'] = 1  \n",
        "user_preferences['Horror'] = 2  \n",
        "user_preferences['Musical'] = 1  \n",
        "user_preferences['Mystery'] = 3  \n",
        "user_preferences['Romance'] = 1  \n",
        "user_preferences['Sci-Fi'] = 5  \n",
        "user_preferences['War'] = 3  \n",
        "user_preferences['Thriller'] = 2  \n",
        "user_preferences['Western'] =1 "
      ],
      "execution_count": null,
      "outputs": []
    },
    {
      "cell_type": "code",
      "metadata": {
        "id": "Q3ik8qT6Z7eV"
      },
      "source": [
        "def dot_product(vector1,vector2):\n",
        "    return sum([ i*j for i,j in zip(vector1, vector2)])"
      ],
      "execution_count": null,
      "outputs": []
    },
    {
      "cell_type": "code",
      "metadata": {
        "id": "HkTempAgZ7eV"
      },
      "source": [
        "def movie_score(movie_features,user_preferences):\n",
        "    return dot_product(movie_features, user_preferences)"
      ],
      "execution_count": null,
      "outputs": []
    },
    {
      "cell_type": "code",
      "metadata": {
        "id": "_6gXlOtbZ7eV",
        "colab": {
          "base_uri": "https://localhost:8080/"
        },
        "outputId": "83d12754-6e8e-4896-fcd6-5d2f6bb7e5ae"
      },
      "source": [
        "toy_Story_features=movies_df.loc[0][3:]\n",
        "toy_Story_features"
      ],
      "execution_count": null,
      "outputs": [
        {
          "output_type": "execute_result",
          "data": {
            "text/plain": [
              "(no genres listed)    0\n",
              "Action                0\n",
              "Adventure             1\n",
              "Animation             1\n",
              "Children              1\n",
              "Comedy                1\n",
              "Crime                 0\n",
              "Documentary           0\n",
              "Drama                 0\n",
              "Fantasy               1\n",
              "Film-Noir             0\n",
              "Horror                0\n",
              "IMAX                  0\n",
              "Musical               0\n",
              "Mystery               0\n",
              "Romance               0\n",
              "Sci-Fi                0\n",
              "Thriller              0\n",
              "War                   0\n",
              "Western               0\n",
              "Name: 0, dtype: object"
            ]
          },
          "metadata": {
            "tags": []
          },
          "execution_count": 74
        }
      ]
    },
    {
      "cell_type": "code",
      "metadata": {
        "id": "gBIia_VQZ7eV",
        "colab": {
          "base_uri": "https://localhost:8080/"
        },
        "outputId": "fb5ed3e4-ae66-44d5-c369-879fdc7525a3"
      },
      "source": [
        "toy_story_user_predicted_score = dot_product(toy_Story_features, user_preferences.values())  \n",
        "toy_story_user_predicted_score"
      ],
      "execution_count": null,
      "outputs": [
        {
          "output_type": "execute_result",
          "data": {
            "text/plain": [
              "9"
            ]
          },
          "metadata": {
            "tags": []
          },
          "execution_count": 75
        }
      ]
    },
    {
      "cell_type": "code",
      "metadata": {
        "id": "SZMPGDhnZ7eV",
        "colab": {
          "base_uri": "https://localhost:8080/",
          "height": 222
        },
        "outputId": "d62982f9-a7d2-48be-acbb-954204f23227"
      },
      "source": [
        "movies_df[movies_df.title.str.contains('Eternal Sunshine')]"
      ],
      "execution_count": null,
      "outputs": [
        {
          "output_type": "execute_result",
          "data": {
            "text/html": [
              "<div>\n",
              "<style scoped>\n",
              "    .dataframe tbody tr th:only-of-type {\n",
              "        vertical-align: middle;\n",
              "    }\n",
              "\n",
              "    .dataframe tbody tr th {\n",
              "        vertical-align: top;\n",
              "    }\n",
              "\n",
              "    .dataframe thead th {\n",
              "        text-align: right;\n",
              "    }\n",
              "</style>\n",
              "<table border=\"1\" class=\"dataframe\">\n",
              "  <thead>\n",
              "    <tr style=\"text-align: right;\">\n",
              "      <th></th>\n",
              "      <th>movieId</th>\n",
              "      <th>title</th>\n",
              "      <th>genres</th>\n",
              "      <th>(no genres listed)</th>\n",
              "      <th>Action</th>\n",
              "      <th>Adventure</th>\n",
              "      <th>Animation</th>\n",
              "      <th>Children</th>\n",
              "      <th>Comedy</th>\n",
              "      <th>Crime</th>\n",
              "      <th>Documentary</th>\n",
              "      <th>Drama</th>\n",
              "      <th>Fantasy</th>\n",
              "      <th>Film-Noir</th>\n",
              "      <th>Horror</th>\n",
              "      <th>IMAX</th>\n",
              "      <th>Musical</th>\n",
              "      <th>Mystery</th>\n",
              "      <th>Romance</th>\n",
              "      <th>Sci-Fi</th>\n",
              "      <th>Thriller</th>\n",
              "      <th>War</th>\n",
              "      <th>Western</th>\n",
              "    </tr>\n",
              "  </thead>\n",
              "  <tbody>\n",
              "    <tr>\n",
              "      <th>5328</th>\n",
              "      <td>7361</td>\n",
              "      <td>Eternal Sunshine of the Spotless Mind (2004)</td>\n",
              "      <td>Drama|Romance|Sci-Fi</td>\n",
              "      <td>0</td>\n",
              "      <td>0</td>\n",
              "      <td>0</td>\n",
              "      <td>0</td>\n",
              "      <td>0</td>\n",
              "      <td>0</td>\n",
              "      <td>0</td>\n",
              "      <td>0</td>\n",
              "      <td>1</td>\n",
              "      <td>0</td>\n",
              "      <td>0</td>\n",
              "      <td>0</td>\n",
              "      <td>0</td>\n",
              "      <td>0</td>\n",
              "      <td>0</td>\n",
              "      <td>1</td>\n",
              "      <td>1</td>\n",
              "      <td>0</td>\n",
              "      <td>0</td>\n",
              "      <td>0</td>\n",
              "    </tr>\n",
              "  </tbody>\n",
              "</table>\n",
              "</div>"
            ],
            "text/plain": [
              "      movieId                                         title  ... War  Western\n",
              "5328     7361  Eternal Sunshine of the Spotless Mind (2004)  ...   0        0\n",
              "\n",
              "[1 rows x 23 columns]"
            ]
          },
          "metadata": {
            "tags": []
          },
          "execution_count": 76
        }
      ]
    },
    {
      "cell_type": "code",
      "metadata": {
        "id": "pgGaVnYRZ7eV",
        "colab": {
          "base_uri": "https://localhost:8080/"
        },
        "outputId": "354214eb-596c-4f3b-c137-88cf1df547cc"
      },
      "source": [
        "eternal=movies_df.loc[5127][3:]\n",
        "eternal"
      ],
      "execution_count": null,
      "outputs": [
        {
          "output_type": "execute_result",
          "data": {
            "text/plain": [
              "(no genres listed)    0\n",
              "Action                1\n",
              "Adventure             1\n",
              "Animation             0\n",
              "Children              0\n",
              "Comedy                1\n",
              "Crime                 1\n",
              "Documentary           0\n",
              "Drama                 0\n",
              "Fantasy               0\n",
              "Film-Noir             0\n",
              "Horror                0\n",
              "IMAX                  0\n",
              "Musical               0\n",
              "Mystery               0\n",
              "Romance               0\n",
              "Sci-Fi                0\n",
              "Thriller              0\n",
              "War                   0\n",
              "Western               0\n",
              "Name: 5127, dtype: object"
            ]
          },
          "metadata": {
            "tags": []
          },
          "execution_count": 77
        }
      ]
    },
    {
      "cell_type": "code",
      "metadata": {
        "id": "gD2-B3UOZ7eV",
        "colab": {
          "base_uri": "https://localhost:8080/"
        },
        "outputId": "2404c830-c45c-4223-b7b4-8aac65c679a1"
      },
      "source": [
        "eternal_user_predicted_score = dot_product(eternal, user_preferences.values())  \n",
        "eternal_user_predicted_score "
      ],
      "execution_count": null,
      "outputs": [
        {
          "output_type": "execute_result",
          "data": {
            "text/plain": [
              "9"
            ]
          },
          "metadata": {
            "tags": []
          },
          "execution_count": 78
        }
      ]
    },
    {
      "cell_type": "markdown",
      "metadata": {
        "id": "PMNazhHy3agt"
      },
      "source": [
        "##We get the top 10 recommended movies"
      ]
    },
    {
      "cell_type": "code",
      "metadata": {
        "id": "2FaAJV9cZ7eV",
        "colab": {
          "base_uri": "https://localhost:8080/"
        },
        "outputId": "e1c17ce1-8482-42cb-fea8-810946d4a3b8"
      },
      "source": [
        "def get_movie_recommendations(user_preferences, n_recommendations):  \n",
        "    #we add a column to the movies_df dataset with the calculated score for each movie for the given user\n",
        "    movies_df['score'] = movies_df[movies_cateogary].apply(movie_score, \n",
        "                                                           args=([user_preferences.values()]), axis=1)\n",
        "    return movies_df.sort_values(by=['score'], ascending=False)['title'][:n_recommendations]\n",
        "\n",
        "get_movie_recommendations(user_preferences, 10)  "
      ],
      "execution_count": null,
      "outputs": [
        {
          "output_type": "execute_result",
          "data": {
            "text/plain": [
              "8492    Lupin III: First Contact (Rupan Sansei: Faasut...\n",
              "8469    Lupin III: Sweet Lost Night (Rupan Sansei: Swe...\n",
              "6220    Patlabor: The Movie (Kidô keisatsu patorebâ: T...\n",
              "8736                                        Rubber (2010)\n",
              "8629                                     Inception (2010)\n",
              "7348    Aqua Teen Hunger Force Colon Movie Film for Th...\n",
              "8910                               Mars Needs Moms (2011)\n",
              "7797                                      Watchmen (2009)\n",
              "8760                                      Megamind (2010)\n",
              "9012                               Kung Fu Panda 2 (2011)\n",
              "Name: title, dtype: object"
            ]
          },
          "metadata": {
            "tags": []
          },
          "execution_count": 79
        }
      ]
    }
  ]
}